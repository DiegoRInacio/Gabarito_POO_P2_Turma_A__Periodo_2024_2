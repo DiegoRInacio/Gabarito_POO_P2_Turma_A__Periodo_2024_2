{
 "cells": [
  {
   "cell_type": "code",
   "execution_count": 26,
   "metadata": {},
   "outputs": [],
   "source": [
    "import time\n",
    "from datetime import datetime, timedelta\n",
    "\n",
    "# Questão 1\n",
    "# Master Class\n",
    "# Questão 1.1\n",
    "class Interfone:\n",
    "    def __init__(self, endereco):\n",
    "        self.modelo = \"Intelbras - Allo WT7\"\n",
    "        self.endereco = endereco\n",
    "    \n",
    "    # abstração\n",
    "    def ligar_para_proprietario(self):\n",
    "        raise NotImplementedError(\"Este método deve ser implementado na subclass\")\n",
    "    \n",
    "    # abstração\n",
    "    def registrar_chamada(self):\n",
    "        raise NotImplementedError(\"Este método deve ser implementado na subclass\")\n",
    "    \n",
    "# Questão 1.2\n",
    "class InterfoneResidencial(Interfone):\n",
    "    def __init__(self, endereco, nome_proprietario, telefone_proprietario):\n",
    "        super().__init__(endereco)\n",
    "        self.nome_proprietario = nome_proprietario\n",
    "        self.telefone_proprietario = telefone_proprietario\n",
    "    \n",
    "    @classmethod\n",
    "    def metodo_cadastro(cls):\n",
    "        endereco = input(\"Digite o Endereço: \")\n",
    "        apto = input(\"Digite o numero do aparteamento: \")\n",
    "        proprietario1 = input(\"Digite o nome do proprietário 1: \")\n",
    "        proprietario2 = input(\"Digite o nome do proprietário 2: \")\n",
    "        telefone1 = input(\"Digite o numero do telefone do proprietário 1: \")\n",
    "        telefone2 = input(\"Digite o numero do telefone do proprietário 2: \")\n",
    "        return cls(endereco, {apto:[proprietario1, proprietario2]}, {apto:[telefone1, telefone2]})\n",
    "    \n",
    "    def ligar_para_proprietario(self, apto, n):\n",
    "        try:\n",
    "            proprietarios = self.nome_proprietario[apto]\n",
    "            telefones = self.telefone_proprietario[apto]\n",
    "            if 1 <= n <= len(proprietarios):\n",
    "                print(f\"Ligando para o {proprietarios[n-1]} no telefone {telefones[n-1]} ({apto}, no Enedereço {self.endereco})\")\n",
    "            else:\n",
    "                print(\"Numero do apto inválido ou numero do proprietário inválido!!!\")\n",
    "        except KeyError:\n",
    "            print(f\"Apto {apto} não encontrado.\")\n",
    "    \n",
    "    def registrar_chamada(self):\n",
    "        horario_inicio = datetime.now()\n",
    "        print(f\"Inicio da chamada: {horario_inicio.strftime('%H:%M:%S')}\")\n",
    "\n",
    "        print(\"Ligação em andamento.....\")\n",
    "        time.sleep(5)\n",
    "\n",
    "        horario_fim = datetime.now()\n",
    "        print(f\"Fim da chamada: {horario_fim.strftime('%H:%M:%S')}\")\n",
    "\n",
    "        duracao = horario_fim - horario_inicio\n",
    "        minutos, segundos = divmod(duracao.total_seconds(), 60)\n",
    "        print(f\"Chamada registrada: Horário {horario_inicio.strftime('%H:%M:%S')}, Duração: {int(minutos)} minutos e {int(segundos)} duração de segundos\")\n",
    "\n",
    "# Questão 2\n",
    "# Subclass\n",
    "class InterfoneEmargencia(Interfone):\n",
    "    def __init__(self, endereco, tipo_servico, numero_servico):\n",
    "        super().__init__(endereco)\n",
    "        self.tipo_servico = tipo_servico\n",
    "        self.numero_servico = numero_servico\n",
    "\n",
    "    @classmethod\n",
    "    def metodo_cadastro(cls):\n",
    "        endereco = input(\"Digite o Endereço: \")\n",
    "        tipo_servico = input(\"Digite o tipo de serviço: (Policia, Bombeiro ou SAMU): \")\n",
    "        numero_servico = input(\"Digite o número do serviço: \")\n",
    "        return cls(endereco, tipo_servico, numero_servico)\n",
    "    \n",
    "    def ligar_para_proprietario(self):\n",
    "        print(f\"Ligando para o serviço de emergência {self.tipo_servico} no número {self.numero_servico}\")\n",
    "    \n",
    "    def registrar_chamada(self):\n",
    "        horario_inicio = datetime.now()\n",
    "        print(f\"Inicio da chamada: {horario_inicio.strftime('%H:%M:%S')}\")\n",
    "\n",
    "        print(\"Ligação em andamento.....\")\n",
    "        time.sleep(5)\n",
    "\n",
    "        horario_fim = datetime.now()\n",
    "        print(f\"Fim da chamada: {horario_fim.strftime('%H:%M:%S')}\")\n",
    "\n",
    "        duracao = horario_fim - horario_inicio\n",
    "        minutos, segundos = divmod(duracao.total_seconds(), 60)\n",
    "        print(f\"Chamada registrada: Horário {horario_inicio.strftime('%H:%M:%S')}, Duração: {int(minutos)} minutos e {int(segundos)} duração de segundos\")"
   ]
  },
  {
   "cell_type": "code",
   "execution_count": 27,
   "metadata": {},
   "outputs": [
    {
     "name": "stdout",
     "output_type": "stream",
     "text": [
      "\n",
      "Cadastro de interfone residenciais\n",
      "Ligando para o Zé da MAnga no telefone 22365412 (203, no Enedereço Rua A 12)\n",
      "Inicio da chamada: 20:43:15\n",
      "Ligação em andamento.....\n",
      "Fim da chamada: 20:43:20\n",
      "Chamada registrada: Horário 20:43:15, Duração: 0 minutos e 5 duração de segundos\n",
      "\n",
      "Cadastro de emegencias\n",
      "Ligando para o serviço de emergência Policia no número 190\n",
      "Inicio da chamada: 20:43:52\n",
      "Ligação em andamento.....\n",
      "Fim da chamada: 20:43:57\n",
      "Chamada registrada: Horário 20:43:52, Duração: 0 minutos e 5 duração de segundos\n"
     ]
    }
   ],
   "source": [
    "if __name__ == \"__main__\":\n",
    "    # Teste das class de residencias\n",
    "    print(\"\\nCadastro de interfone residenciais\")\n",
    "    interfone_residencial = InterfoneResidencial.metodo_cadastro()\n",
    "    interfone_residencial.ligar_para_proprietario(\"203\", 1)\n",
    "    interfone_residencial.registrar_chamada()\n",
    "\n",
    "    # Teste das class de emergenciais\n",
    "    print(\"\\nCadastro de emegencias\")\n",
    "    interfone_residencial = InterfoneEmargencia.metodo_cadastro()\n",
    "    interfone_residencial.ligar_para_proprietario()\n",
    "    interfone_residencial.registrar_chamada()"
   ]
  },
  {
   "cell_type": "markdown",
   "metadata": {},
   "source": [
    "### Um __dict__ trabalha com chave : valor\n",
    "\n",
    "- {201} é a chave\n",
    "- João e Joana são os valores\n",
    "    - Sendo assim, avariavel em um lista colocar a chave\n",
    "        - ele chama os valores do dicioário"
   ]
  },
  {
   "cell_type": "code",
   "execution_count": null,
   "metadata": {},
   "outputs": [
    {
     "data": {
      "text/plain": [
       "'20:03:19'"
      ]
     },
     "execution_count": 16,
     "metadata": {},
     "output_type": "execute_result"
    }
   ],
   "source": [
    "dicion = {201:[\"João\", \"joana\"]}\n",
    "\n",
    "var = dicion[201]\n",
    "\n",
    "var[1]"
   ]
  }
 ],
 "metadata": {
  "kernelspec": {
   "display_name": "Python 3",
   "language": "python",
   "name": "python3"
  },
  "language_info": {
   "codemirror_mode": {
    "name": "ipython",
    "version": 3
   },
   "file_extension": ".py",
   "mimetype": "text/x-python",
   "name": "python",
   "nbconvert_exporter": "python",
   "pygments_lexer": "ipython3",
   "version": "3.11.9"
  }
 },
 "nbformat": 4,
 "nbformat_minor": 2
}
